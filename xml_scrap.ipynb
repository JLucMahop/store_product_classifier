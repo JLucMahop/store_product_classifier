{
 "cells": [
  {
   "cell_type": "code",
   "execution_count": 212,
   "metadata": {},
   "outputs": [],
   "source": [
    "import pandas as pd\n",
    "\n",
    "\n",
    "#Dataset preprocessing\n",
    "import string\n",
    "import nltk\n",
    "#nltk.download()\n",
    "\n",
    "from textblob import Word\n",
    "from nltk.stem import PorterStemmer\n",
    "from nltk.corpus import stopwords\n",
    "\n",
    "\n",
    "#Model trainnign and df splitting\n",
    "\n",
    "from sklearn.model_selection import train_test_split\n",
    "from sklearn import preprocessing as ppro\n",
    "\n",
    "#SVM classifyer\n",
    "from sklearn.svm import LinearSVC\n",
    "\n",
    "#Exporting the model with pickle\n",
    "import pickle\n",
    "\n"
   ]
  },
  {
   "cell_type": "code",
   "execution_count": 213,
   "metadata": {},
   "outputs": [
    {
     "data": {
      "text/html": [
       "<div>\n",
       "<style scoped>\n",
       "    .dataframe tbody tr th:only-of-type {\n",
       "        vertical-align: middle;\n",
       "    }\n",
       "\n",
       "    .dataframe tbody tr th {\n",
       "        vertical-align: top;\n",
       "    }\n",
       "\n",
       "    .dataframe thead th {\n",
       "        text-align: right;\n",
       "    }\n",
       "</style>\n",
       "<table border=\"1\" class=\"dataframe\">\n",
       "  <thead>\n",
       "    <tr style=\"text-align: right;\">\n",
       "      <th></th>\n",
       "      <th>description</th>\n",
       "      <th>categories</th>\n",
       "    </tr>\n",
       "  </thead>\n",
       "  <tbody>\n",
       "    <tr>\n",
       "      <th>0</th>\n",
       "      <td>Collagen Peptides Powder (16oz) | Grass-Fed, C...</td>\n",
       "      <td>health-household</td>\n",
       "    </tr>\n",
       "    <tr>\n",
       "      <th>1</th>\n",
       "      <td>Playtex Diaper Genie Refill Bags, Ideal for Di...</td>\n",
       "      <td>health-household</td>\n",
       "    </tr>\n",
       "    <tr>\n",
       "      <th>2</th>\n",
       "      <td>Cottonelle Ultra GentleCare Toilet Paper, 48 D...</td>\n",
       "      <td>health-household</td>\n",
       "    </tr>\n",
       "    <tr>\n",
       "      <th>3</th>\n",
       "      <td>Scott ComfortPlus Toilet Paper, 12 Double Roll...</td>\n",
       "      <td>health-household</td>\n",
       "    </tr>\n",
       "    <tr>\n",
       "      <th>4</th>\n",
       "      <td>Tide PODS 3 in 1 HE Turbo Laundry Detergent Pa...</td>\n",
       "      <td>health-household</td>\n",
       "    </tr>\n",
       "    <tr>\n",
       "      <th>...</th>\n",
       "      <td>...</td>\n",
       "      <td>...</td>\n",
       "    </tr>\n",
       "    <tr>\n",
       "      <th>36701</th>\n",
       "      <td>Jack Wolfskin Moab JAM 18L Versatile Biking Ba...</td>\n",
       "      <td>luggage</td>\n",
       "    </tr>\n",
       "    <tr>\n",
       "      <th>36702</th>\n",
       "      <td>Jack Wolfskin KADO 20L Lightweight toploader B...</td>\n",
       "      <td>luggage</td>\n",
       "    </tr>\n",
       "    <tr>\n",
       "      <th>36703</th>\n",
       "      <td>Jack Wolfskin 365 Getaway 26L Lightweight Back...</td>\n",
       "      <td>luggage</td>\n",
       "    </tr>\n",
       "    <tr>\n",
       "      <th>36704</th>\n",
       "      <td>Jack Wolfskin ALLEYCAT 18L Versatile Action Sp...</td>\n",
       "      <td>luggage</td>\n",
       "    </tr>\n",
       "    <tr>\n",
       "      <th>36705</th>\n",
       "      <td>Jack Wolfskin KADO 14L Lightweight toploader B...</td>\n",
       "      <td>luggage</td>\n",
       "    </tr>\n",
       "  </tbody>\n",
       "</table>\n",
       "<p>36706 rows × 2 columns</p>\n",
       "</div>"
      ],
      "text/plain": [
       "                                             description        categories\n",
       "0      Collagen Peptides Powder (16oz) | Grass-Fed, C...  health-household\n",
       "1      Playtex Diaper Genie Refill Bags, Ideal for Di...  health-household\n",
       "2      Cottonelle Ultra GentleCare Toilet Paper, 48 D...  health-household\n",
       "3      Scott ComfortPlus Toilet Paper, 12 Double Roll...  health-household\n",
       "4      Tide PODS 3 in 1 HE Turbo Laundry Detergent Pa...  health-household\n",
       "...                                                  ...               ...\n",
       "36701  Jack Wolfskin Moab JAM 18L Versatile Biking Ba...           luggage\n",
       "36702  Jack Wolfskin KADO 20L Lightweight toploader B...           luggage\n",
       "36703  Jack Wolfskin 365 Getaway 26L Lightweight Back...           luggage\n",
       "36704  Jack Wolfskin ALLEYCAT 18L Versatile Action Sp...           luggage\n",
       "36705  Jack Wolfskin KADO 14L Lightweight toploader B...           luggage\n",
       "\n",
       "[36706 rows x 2 columns]"
      ]
     },
     "execution_count": 213,
     "metadata": {},
     "output_type": "execute_result"
    }
   ],
   "source": [
    "df=pd.read_csv('./products.csv')\n",
    "df"
   ]
  },
  {
   "cell_type": "code",
   "execution_count": 214,
   "metadata": {},
   "outputs": [
    {
     "data": {
      "text/plain": [
       "description    object\n",
       "categories     object\n",
       "dtype: object"
      ]
     },
     "execution_count": 214,
     "metadata": {},
     "output_type": "execute_result"
    }
   ],
   "source": [
    "#dataset types\n",
    "df.dtypes"
   ]
  },
  {
   "cell_type": "code",
   "execution_count": 215,
   "metadata": {},
   "outputs": [],
   "source": [
    "#df.dtypes\n",
    "df=df.dropna(axis=1)"
   ]
  },
  {
   "cell_type": "code",
   "execution_count": 216,
   "metadata": {},
   "outputs": [
    {
     "data": {
      "text/html": [
       "<div>\n",
       "<style scoped>\n",
       "    .dataframe tbody tr th:only-of-type {\n",
       "        vertical-align: middle;\n",
       "    }\n",
       "\n",
       "    .dataframe tbody tr th {\n",
       "        vertical-align: top;\n",
       "    }\n",
       "\n",
       "    .dataframe thead th {\n",
       "        text-align: right;\n",
       "    }\n",
       "</style>\n",
       "<table border=\"1\" class=\"dataframe\">\n",
       "  <thead>\n",
       "    <tr style=\"text-align: right;\">\n",
       "      <th></th>\n",
       "      <th>description</th>\n",
       "      <th>categories</th>\n",
       "    </tr>\n",
       "  </thead>\n",
       "  <tbody>\n",
       "    <tr>\n",
       "      <th>0</th>\n",
       "      <td>collagen peptides powder (16oz) | grass-fed, c...</td>\n",
       "      <td>health-household</td>\n",
       "    </tr>\n",
       "    <tr>\n",
       "      <th>1</th>\n",
       "      <td>playtex diaper genie refill bags, ideal for di...</td>\n",
       "      <td>health-household</td>\n",
       "    </tr>\n",
       "    <tr>\n",
       "      <th>2</th>\n",
       "      <td>cottonelle ultra gentlecare toilet paper, 48 d...</td>\n",
       "      <td>health-household</td>\n",
       "    </tr>\n",
       "    <tr>\n",
       "      <th>3</th>\n",
       "      <td>scott comfortplus toilet paper, 12 double roll...</td>\n",
       "      <td>health-household</td>\n",
       "    </tr>\n",
       "    <tr>\n",
       "      <th>4</th>\n",
       "      <td>tide pods 3 in 1 he turbo laundry detergent pa...</td>\n",
       "      <td>health-household</td>\n",
       "    </tr>\n",
       "    <tr>\n",
       "      <th>...</th>\n",
       "      <td>...</td>\n",
       "      <td>...</td>\n",
       "    </tr>\n",
       "    <tr>\n",
       "      <th>36701</th>\n",
       "      <td>jack wolfskin moab jam 18l versatile biking ba...</td>\n",
       "      <td>luggage</td>\n",
       "    </tr>\n",
       "    <tr>\n",
       "      <th>36702</th>\n",
       "      <td>jack wolfskin kado 20l lightweight toploader b...</td>\n",
       "      <td>luggage</td>\n",
       "    </tr>\n",
       "    <tr>\n",
       "      <th>36703</th>\n",
       "      <td>jack wolfskin 365 getaway 26l lightweight back...</td>\n",
       "      <td>luggage</td>\n",
       "    </tr>\n",
       "    <tr>\n",
       "      <th>36704</th>\n",
       "      <td>jack wolfskin alleycat 18l versatile action sp...</td>\n",
       "      <td>luggage</td>\n",
       "    </tr>\n",
       "    <tr>\n",
       "      <th>36705</th>\n",
       "      <td>jack wolfskin kado 14l lightweight toploader b...</td>\n",
       "      <td>luggage</td>\n",
       "    </tr>\n",
       "  </tbody>\n",
       "</table>\n",
       "<p>36706 rows × 2 columns</p>\n",
       "</div>"
      ],
      "text/plain": [
       "                                             description        categories\n",
       "0      collagen peptides powder (16oz) | grass-fed, c...  health-household\n",
       "1      playtex diaper genie refill bags, ideal for di...  health-household\n",
       "2      cottonelle ultra gentlecare toilet paper, 48 d...  health-household\n",
       "3      scott comfortplus toilet paper, 12 double roll...  health-household\n",
       "4      tide pods 3 in 1 he turbo laundry detergent pa...  health-household\n",
       "...                                                  ...               ...\n",
       "36701  jack wolfskin moab jam 18l versatile biking ba...           luggage\n",
       "36702  jack wolfskin kado 20l lightweight toploader b...           luggage\n",
       "36703  jack wolfskin 365 getaway 26l lightweight back...           luggage\n",
       "36704  jack wolfskin alleycat 18l versatile action sp...           luggage\n",
       "36705  jack wolfskin kado 14l lightweight toploader b...           luggage\n",
       "\n",
       "[36706 rows x 2 columns]"
      ]
     },
     "execution_count": 216,
     "metadata": {},
     "output_type": "execute_result"
    }
   ],
   "source": [
    "# Setting all to lower case\n",
    "df['description'] = df['description'].apply(lambda x: \" \".join(x.lower() for x in x.split()))\n",
    "df"
   ]
  },
  {
   "cell_type": "code",
   "execution_count": 217,
   "metadata": {},
   "outputs": [
    {
     "data": {
      "text/html": [
       "<div>\n",
       "<style scoped>\n",
       "    .dataframe tbody tr th:only-of-type {\n",
       "        vertical-align: middle;\n",
       "    }\n",
       "\n",
       "    .dataframe tbody tr th {\n",
       "        vertical-align: top;\n",
       "    }\n",
       "\n",
       "    .dataframe thead th {\n",
       "        text-align: right;\n",
       "    }\n",
       "</style>\n",
       "<table border=\"1\" class=\"dataframe\">\n",
       "  <thead>\n",
       "    <tr style=\"text-align: right;\">\n",
       "      <th></th>\n",
       "      <th>description</th>\n",
       "      <th>categories</th>\n",
       "    </tr>\n",
       "  </thead>\n",
       "  <tbody>\n",
       "    <tr>\n",
       "      <th>0</th>\n",
       "      <td>collagen peptides powder 16oz  grassfed certif...</td>\n",
       "      <td>health-household</td>\n",
       "    </tr>\n",
       "    <tr>\n",
       "      <th>1</th>\n",
       "      <td>playtex diaper genie refill bags ideal for dia...</td>\n",
       "      <td>health-household</td>\n",
       "    </tr>\n",
       "    <tr>\n",
       "      <th>2</th>\n",
       "      <td>cottonelle ultra gentlecare toilet paper 48 do...</td>\n",
       "      <td>health-household</td>\n",
       "    </tr>\n",
       "    <tr>\n",
       "      <th>3</th>\n",
       "      <td>scott comfortplus toilet paper 12 double rolls...</td>\n",
       "      <td>health-household</td>\n",
       "    </tr>\n",
       "    <tr>\n",
       "      <th>4</th>\n",
       "      <td>tide pods 3 in 1 he turbo laundry detergent pa...</td>\n",
       "      <td>health-household</td>\n",
       "    </tr>\n",
       "    <tr>\n",
       "      <th>...</th>\n",
       "      <td>...</td>\n",
       "      <td>...</td>\n",
       "    </tr>\n",
       "    <tr>\n",
       "      <th>36701</th>\n",
       "      <td>jack wolfskin moab jam 18l versatile biking ba...</td>\n",
       "      <td>luggage</td>\n",
       "    </tr>\n",
       "    <tr>\n",
       "      <th>36702</th>\n",
       "      <td>jack wolfskin kado 20l lightweight toploader b...</td>\n",
       "      <td>luggage</td>\n",
       "    </tr>\n",
       "    <tr>\n",
       "      <th>36703</th>\n",
       "      <td>jack wolfskin 365 getaway 26l lightweight back...</td>\n",
       "      <td>luggage</td>\n",
       "    </tr>\n",
       "    <tr>\n",
       "      <th>36704</th>\n",
       "      <td>jack wolfskin alleycat 18l versatile action sp...</td>\n",
       "      <td>luggage</td>\n",
       "    </tr>\n",
       "    <tr>\n",
       "      <th>36705</th>\n",
       "      <td>jack wolfskin kado 14l lightweight toploader b...</td>\n",
       "      <td>luggage</td>\n",
       "    </tr>\n",
       "  </tbody>\n",
       "</table>\n",
       "<p>36706 rows × 2 columns</p>\n",
       "</div>"
      ],
      "text/plain": [
       "                                             description        categories\n",
       "0      collagen peptides powder 16oz  grassfed certif...  health-household\n",
       "1      playtex diaper genie refill bags ideal for dia...  health-household\n",
       "2      cottonelle ultra gentlecare toilet paper 48 do...  health-household\n",
       "3      scott comfortplus toilet paper 12 double rolls...  health-household\n",
       "4      tide pods 3 in 1 he turbo laundry detergent pa...  health-household\n",
       "...                                                  ...               ...\n",
       "36701  jack wolfskin moab jam 18l versatile biking ba...           luggage\n",
       "36702  jack wolfskin kado 20l lightweight toploader b...           luggage\n",
       "36703  jack wolfskin 365 getaway 26l lightweight back...           luggage\n",
       "36704  jack wolfskin alleycat 18l versatile action sp...           luggage\n",
       "36705  jack wolfskin kado 14l lightweight toploader b...           luggage\n",
       "\n",
       "[36706 rows x 2 columns]"
      ]
     },
     "execution_count": 217,
     "metadata": {},
     "output_type": "execute_result"
    }
   ],
   "source": [
    "# Removing punctuation\n",
    "\n",
    "def unpunctuate(s):\n",
    "    \n",
    "    for c in string.punctuation:\n",
    "        s= s.replace(c,\"\")\n",
    "    return s\n",
    "\n",
    "df['description']=df['description'].apply(unpunctuate)\n",
    "df"
   ]
  },
  {
   "cell_type": "code",
   "execution_count": 218,
   "metadata": {},
   "outputs": [
    {
     "data": {
      "text/plain": [
       "0        collagen peptides powder 16oz grassfed certifi...\n",
       "1        playtex diaper genie refill bags ideal diaper ...\n",
       "2        cottonelle ultra gentlecare toilet paper 48 do...\n",
       "3        scott comfortplus toilet paper 12 double rolls...\n",
       "4        tide pods 3 1 turbo laundry detergent pacs spr...\n",
       "                               ...                        \n",
       "36701    jack wolfskin moab jam 18l versatile biking ba...\n",
       "36702    jack wolfskin kado 20l lightweight toploader b...\n",
       "36703    jack wolfskin 365 getaway 26l lightweight back...\n",
       "36704    jack wolfskin alleycat 18l versatile action sp...\n",
       "36705    jack wolfskin kado 14l lightweight toploader b...\n",
       "Name: description, Length: 36706, dtype: object"
      ]
     },
     "execution_count": 218,
     "metadata": {},
     "output_type": "execute_result"
    }
   ],
   "source": [
    "# Removing stop words\n",
    "\n",
    "#remove stop words\n",
    "stop = stopwords.words('english')\n",
    "df['description'] = df['description'].apply(lambda x: \" \".join(x for x in x.split() if x not in stop))\n",
    "df['description']"
   ]
  },
  {
   "cell_type": "code",
   "execution_count": 219,
   "metadata": {},
   "outputs": [
    {
     "data": {
      "text/plain": [
       "0        collagen peptides powder 16oz grassfed certifi...\n",
       "1        playtex diaper genie refill bags ideal diaper ...\n",
       "2        cottonelle ultra gentlecare toilet paper 48 do...\n",
       "3        scott comfortplus toilet paper 12 double rolls...\n",
       "4        tide pods 3 1 turbo laundry detergent pacs spr...\n",
       "                               ...                        \n",
       "36701    jack wolfskin moab jam 18l versatile biking ba...\n",
       "36702    jack wolfskin kado 20l lightweight toploader b...\n",
       "36703    jack wolfskin 365 getaway 26l lightweight back...\n",
       "36704    jack wolfskin alleycat 18l versatile action sp...\n",
       "36705    jack wolfskin kado 14l lightweight toploader b...\n",
       "Name: description, Length: 36706, dtype: object"
      ]
     },
     "execution_count": 219,
     "metadata": {},
     "output_type": "execute_result"
    }
   ],
   "source": [
    "df['description']"
   ]
  },
  {
   "cell_type": "code",
   "execution_count": 220,
   "metadata": {},
   "outputs": [
    {
     "data": {
      "text/html": [
       "<div>\n",
       "<style scoped>\n",
       "    .dataframe tbody tr th:only-of-type {\n",
       "        vertical-align: middle;\n",
       "    }\n",
       "\n",
       "    .dataframe tbody tr th {\n",
       "        vertical-align: top;\n",
       "    }\n",
       "\n",
       "    .dataframe thead th {\n",
       "        text-align: right;\n",
       "    }\n",
       "</style>\n",
       "<table border=\"1\" class=\"dataframe\">\n",
       "  <thead>\n",
       "    <tr style=\"text-align: right;\">\n",
       "      <th></th>\n",
       "      <th>description</th>\n",
       "      <th>categories</th>\n",
       "    </tr>\n",
       "  </thead>\n",
       "  <tbody>\n",
       "    <tr>\n",
       "      <th>0</th>\n",
       "      <td>[collagen, peptides, powder, 16oz, grassfed, c...</td>\n",
       "      <td>health-household</td>\n",
       "    </tr>\n",
       "    <tr>\n",
       "      <th>1</th>\n",
       "      <td>[playtex, diaper, genie, refill, bags, ideal, ...</td>\n",
       "      <td>health-household</td>\n",
       "    </tr>\n",
       "    <tr>\n",
       "      <th>2</th>\n",
       "      <td>[cottonelle, ultra, gentlecare, toilet, paper,...</td>\n",
       "      <td>health-household</td>\n",
       "    </tr>\n",
       "    <tr>\n",
       "      <th>3</th>\n",
       "      <td>[scott, comfortplus, toilet, paper, 12, double...</td>\n",
       "      <td>health-household</td>\n",
       "    </tr>\n",
       "    <tr>\n",
       "      <th>4</th>\n",
       "      <td>[tide, pods, 3, 1, turbo, laundry, detergent, ...</td>\n",
       "      <td>health-household</td>\n",
       "    </tr>\n",
       "    <tr>\n",
       "      <th>...</th>\n",
       "      <td>...</td>\n",
       "      <td>...</td>\n",
       "    </tr>\n",
       "    <tr>\n",
       "      <th>36701</th>\n",
       "      <td>[jack, wolfskin, moab, jam, 18l, versatile, bi...</td>\n",
       "      <td>luggage</td>\n",
       "    </tr>\n",
       "    <tr>\n",
       "      <th>36702</th>\n",
       "      <td>[jack, wolfskin, kado, 20l, lightweight, toplo...</td>\n",
       "      <td>luggage</td>\n",
       "    </tr>\n",
       "    <tr>\n",
       "      <th>36703</th>\n",
       "      <td>[jack, wolfskin, 365, getaway, 26l, lightweigh...</td>\n",
       "      <td>luggage</td>\n",
       "    </tr>\n",
       "    <tr>\n",
       "      <th>36704</th>\n",
       "      <td>[jack, wolfskin, alleycat, 18l, versatile, act...</td>\n",
       "      <td>luggage</td>\n",
       "    </tr>\n",
       "    <tr>\n",
       "      <th>36705</th>\n",
       "      <td>[jack, wolfskin, kado, 14l, lightweight, toplo...</td>\n",
       "      <td>luggage</td>\n",
       "    </tr>\n",
       "  </tbody>\n",
       "</table>\n",
       "<p>36706 rows × 2 columns</p>\n",
       "</div>"
      ],
      "text/plain": [
       "                                             description        categories\n",
       "0      [collagen, peptides, powder, 16oz, grassfed, c...  health-household\n",
       "1      [playtex, diaper, genie, refill, bags, ideal, ...  health-household\n",
       "2      [cottonelle, ultra, gentlecare, toilet, paper,...  health-household\n",
       "3      [scott, comfortplus, toilet, paper, 12, double...  health-household\n",
       "4      [tide, pods, 3, 1, turbo, laundry, detergent, ...  health-household\n",
       "...                                                  ...               ...\n",
       "36701  [jack, wolfskin, moab, jam, 18l, versatile, bi...           luggage\n",
       "36702  [jack, wolfskin, kado, 20l, lightweight, toplo...           luggage\n",
       "36703  [jack, wolfskin, 365, getaway, 26l, lightweigh...           luggage\n",
       "36704  [jack, wolfskin, alleycat, 18l, versatile, act...           luggage\n",
       "36705  [jack, wolfskin, kado, 14l, lightweight, toplo...           luggage\n",
       "\n",
       "[36706 rows x 2 columns]"
      ]
     },
     "execution_count": 220,
     "metadata": {},
     "output_type": "execute_result"
    }
   ],
   "source": [
    "#Tokenization\n",
    "#create data\n",
    "def tokenize(s):\n",
    "    return nltk.word_tokenize(s)\n",
    "\n",
    "df['description']=df['description'].apply(tokenize)\n",
    "df"
   ]
  },
  {
   "cell_type": "code",
   "execution_count": 221,
   "metadata": {},
   "outputs": [
    {
     "data": {
      "text/html": [
       "<div>\n",
       "<style scoped>\n",
       "    .dataframe tbody tr th:only-of-type {\n",
       "        vertical-align: middle;\n",
       "    }\n",
       "\n",
       "    .dataframe tbody tr th {\n",
       "        vertical-align: top;\n",
       "    }\n",
       "\n",
       "    .dataframe thead th {\n",
       "        text-align: right;\n",
       "    }\n",
       "</style>\n",
       "<table border=\"1\" class=\"dataframe\">\n",
       "  <thead>\n",
       "    <tr style=\"text-align: right;\">\n",
       "      <th></th>\n",
       "      <th>description</th>\n",
       "      <th>categories</th>\n",
       "    </tr>\n",
       "  </thead>\n",
       "  <tbody>\n",
       "    <tr>\n",
       "      <th>0</th>\n",
       "      <td>collagen peptid powder 16oz grassf certifi pal...</td>\n",
       "      <td>health-household</td>\n",
       "    </tr>\n",
       "    <tr>\n",
       "      <th>1</th>\n",
       "      <td>playtex diaper geni refil bag ideal diaper gen...</td>\n",
       "      <td>health-household</td>\n",
       "    </tr>\n",
       "    <tr>\n",
       "      <th>2</th>\n",
       "      <td>cottonel ultra gentlecar toilet paper 48 doubl...</td>\n",
       "      <td>health-household</td>\n",
       "    </tr>\n",
       "    <tr>\n",
       "      <th>3</th>\n",
       "      <td>scott comfortplu toilet paper 12 doubl roll ba...</td>\n",
       "      <td>health-household</td>\n",
       "    </tr>\n",
       "    <tr>\n",
       "      <th>4</th>\n",
       "      <td>tide pod 3 1 turbo laundri deterg pac spring m...</td>\n",
       "      <td>health-household</td>\n",
       "    </tr>\n",
       "    <tr>\n",
       "      <th>...</th>\n",
       "      <td>...</td>\n",
       "      <td>...</td>\n",
       "    </tr>\n",
       "    <tr>\n",
       "      <th>36701</th>\n",
       "      <td>jack wolfskin moab jam 18l versatil bike backp...</td>\n",
       "      <td>luggage</td>\n",
       "    </tr>\n",
       "    <tr>\n",
       "      <th>36702</th>\n",
       "      <td>jack wolfskin kado 20l lightweight topload bac...</td>\n",
       "      <td>luggage</td>\n",
       "    </tr>\n",
       "    <tr>\n",
       "      <th>36703</th>\n",
       "      <td>jack wolfskin 365 getaway 26l lightweight back...</td>\n",
       "      <td>luggage</td>\n",
       "    </tr>\n",
       "    <tr>\n",
       "      <th>36704</th>\n",
       "      <td>jack wolfskin alleycat 18l versatil action spo...</td>\n",
       "      <td>luggage</td>\n",
       "    </tr>\n",
       "    <tr>\n",
       "      <th>36705</th>\n",
       "      <td>jack wolfskin kado 14l lightweight topload bac...</td>\n",
       "      <td>luggage</td>\n",
       "    </tr>\n",
       "  </tbody>\n",
       "</table>\n",
       "<p>36706 rows × 2 columns</p>\n",
       "</div>"
      ],
      "text/plain": [
       "                                             description        categories\n",
       "0      collagen peptid powder 16oz grassf certifi pal...  health-household\n",
       "1      playtex diaper geni refil bag ideal diaper gen...  health-household\n",
       "2      cottonel ultra gentlecar toilet paper 48 doubl...  health-household\n",
       "3      scott comfortplu toilet paper 12 doubl roll ba...  health-household\n",
       "4      tide pod 3 1 turbo laundri deterg pac spring m...  health-household\n",
       "...                                                  ...               ...\n",
       "36701  jack wolfskin moab jam 18l versatil bike backp...           luggage\n",
       "36702  jack wolfskin kado 20l lightweight topload bac...           luggage\n",
       "36703  jack wolfskin 365 getaway 26l lightweight back...           luggage\n",
       "36704  jack wolfskin alleycat 18l versatil action spo...           luggage\n",
       "36705  jack wolfskin kado 14l lightweight topload bac...           luggage\n",
       "\n",
       "[36706 rows x 2 columns]"
      ]
     },
     "execution_count": 221,
     "metadata": {},
     "output_type": "execute_result"
    }
   ],
   "source": [
    "#Stemming \n",
    "#Import library\n",
    "\n",
    "\n",
    "st = PorterStemmer()\n",
    "df['description']=df['description'].apply(lambda x: \" \".join(st.stem(word) for word in x))\n",
    "df"
   ]
  },
  {
   "cell_type": "code",
   "execution_count": 222,
   "metadata": {},
   "outputs": [
    {
     "data": {
      "text/html": [
       "<div>\n",
       "<style scoped>\n",
       "    .dataframe tbody tr th:only-of-type {\n",
       "        vertical-align: middle;\n",
       "    }\n",
       "\n",
       "    .dataframe tbody tr th {\n",
       "        vertical-align: top;\n",
       "    }\n",
       "\n",
       "    .dataframe thead th {\n",
       "        text-align: right;\n",
       "    }\n",
       "</style>\n",
       "<table border=\"1\" class=\"dataframe\">\n",
       "  <thead>\n",
       "    <tr style=\"text-align: right;\">\n",
       "      <th></th>\n",
       "      <th>description</th>\n",
       "      <th>categories</th>\n",
       "    </tr>\n",
       "  </thead>\n",
       "  <tbody>\n",
       "    <tr>\n",
       "      <th>0</th>\n",
       "      <td>collagen peptid powder 16oz grassf certifi pal...</td>\n",
       "      <td>health-household</td>\n",
       "    </tr>\n",
       "    <tr>\n",
       "      <th>1</th>\n",
       "      <td>playtex diaper geni refil bag ideal diaper gen...</td>\n",
       "      <td>health-household</td>\n",
       "    </tr>\n",
       "    <tr>\n",
       "      <th>2</th>\n",
       "      <td>cottonel ultra gentlecar toilet paper 48 doubl...</td>\n",
       "      <td>health-household</td>\n",
       "    </tr>\n",
       "    <tr>\n",
       "      <th>3</th>\n",
       "      <td>scott comfortplu toilet paper 12 doubl roll ba...</td>\n",
       "      <td>health-household</td>\n",
       "    </tr>\n",
       "    <tr>\n",
       "      <th>4</th>\n",
       "      <td>tide pod 3 1 turbo laundri deterg pac spring m...</td>\n",
       "      <td>health-household</td>\n",
       "    </tr>\n",
       "    <tr>\n",
       "      <th>...</th>\n",
       "      <td>...</td>\n",
       "      <td>...</td>\n",
       "    </tr>\n",
       "    <tr>\n",
       "      <th>36701</th>\n",
       "      <td>jack wolfskin moab jam 18l versatil bike backp...</td>\n",
       "      <td>luggage</td>\n",
       "    </tr>\n",
       "    <tr>\n",
       "      <th>36702</th>\n",
       "      <td>jack wolfskin kado 20l lightweight topload bac...</td>\n",
       "      <td>luggage</td>\n",
       "    </tr>\n",
       "    <tr>\n",
       "      <th>36703</th>\n",
       "      <td>jack wolfskin 365 getaway 26l lightweight back...</td>\n",
       "      <td>luggage</td>\n",
       "    </tr>\n",
       "    <tr>\n",
       "      <th>36704</th>\n",
       "      <td>jack wolfskin alleycat 18l versatil action spo...</td>\n",
       "      <td>luggage</td>\n",
       "    </tr>\n",
       "    <tr>\n",
       "      <th>36705</th>\n",
       "      <td>jack wolfskin kado 14l lightweight topload bac...</td>\n",
       "      <td>luggage</td>\n",
       "    </tr>\n",
       "  </tbody>\n",
       "</table>\n",
       "<p>36706 rows × 2 columns</p>\n",
       "</div>"
      ],
      "text/plain": [
       "                                             description        categories\n",
       "0      collagen peptid powder 16oz grassf certifi pal...  health-household\n",
       "1      playtex diaper geni refil bag ideal diaper gen...  health-household\n",
       "2      cottonel ultra gentlecar toilet paper 48 doubl...  health-household\n",
       "3      scott comfortplu toilet paper 12 doubl roll ba...  health-household\n",
       "4      tide pod 3 1 turbo laundri deterg pac spring m...  health-household\n",
       "...                                                  ...               ...\n",
       "36701  jack wolfskin moab jam 18l versatil bike backp...           luggage\n",
       "36702  jack wolfskin kado 20l lightweight topload bac...           luggage\n",
       "36703  jack wolfskin 365 getaway 26l lightweight back...           luggage\n",
       "36704  jack wolfskin alleycat 18l versatil action spo...           luggage\n",
       "36705  jack wolfskin kado 14l lightweight topload bac...           luggage\n",
       "\n",
       "[36706 rows x 2 columns]"
      ]
     },
     "execution_count": 222,
     "metadata": {},
     "output_type": "execute_result"
    }
   ],
   "source": [
    "# Lemmatization\n",
    "\n",
    "\n",
    "df['description'] = df['description'].apply(lambda x: \" \".join(Word(word).lemmatize() for word in x.split()))\n",
    "df\n"
   ]
  },
  {
   "cell_type": "code",
   "execution_count": null,
   "metadata": {},
   "outputs": [],
   "source": [
    "\n"
   ]
  },
  {
   "cell_type": "markdown",
   "metadata": {},
   "source": [
    "### Model Training\n"
   ]
  },
  {
   "cell_type": "code",
   "execution_count": 223,
   "metadata": {},
   "outputs": [
    {
     "data": {
      "text/html": [
       "<div>\n",
       "<style scoped>\n",
       "    .dataframe tbody tr th:only-of-type {\n",
       "        vertical-align: middle;\n",
       "    }\n",
       "\n",
       "    .dataframe tbody tr th {\n",
       "        vertical-align: top;\n",
       "    }\n",
       "\n",
       "    .dataframe thead th {\n",
       "        text-align: right;\n",
       "    }\n",
       "</style>\n",
       "<table border=\"1\" class=\"dataframe\">\n",
       "  <thead>\n",
       "    <tr style=\"text-align: right;\">\n",
       "      <th></th>\n",
       "      <th>description</th>\n",
       "      <th>categories</th>\n",
       "    </tr>\n",
       "  </thead>\n",
       "  <tbody>\n",
       "    <tr>\n",
       "      <th>0</th>\n",
       "      <td>collagen peptid powder 16oz grassf certifi pal...</td>\n",
       "      <td>0</td>\n",
       "    </tr>\n",
       "    <tr>\n",
       "      <th>1</th>\n",
       "      <td>playtex diaper geni refil bag ideal diaper gen...</td>\n",
       "      <td>0</td>\n",
       "    </tr>\n",
       "    <tr>\n",
       "      <th>2</th>\n",
       "      <td>cottonel ultra gentlecar toilet paper 48 doubl...</td>\n",
       "      <td>0</td>\n",
       "    </tr>\n",
       "    <tr>\n",
       "      <th>3</th>\n",
       "      <td>scott comfortplu toilet paper 12 doubl roll ba...</td>\n",
       "      <td>0</td>\n",
       "    </tr>\n",
       "    <tr>\n",
       "      <th>4</th>\n",
       "      <td>tide pod 3 1 turbo laundri deterg pac spring m...</td>\n",
       "      <td>0</td>\n",
       "    </tr>\n",
       "    <tr>\n",
       "      <th>...</th>\n",
       "      <td>...</td>\n",
       "      <td>...</td>\n",
       "    </tr>\n",
       "    <tr>\n",
       "      <th>36701</th>\n",
       "      <td>jack wolfskin moab jam 18l versatil bike backp...</td>\n",
       "      <td>3</td>\n",
       "    </tr>\n",
       "    <tr>\n",
       "      <th>36702</th>\n",
       "      <td>jack wolfskin kado 20l lightweight topload bac...</td>\n",
       "      <td>3</td>\n",
       "    </tr>\n",
       "    <tr>\n",
       "      <th>36703</th>\n",
       "      <td>jack wolfskin 365 getaway 26l lightweight back...</td>\n",
       "      <td>3</td>\n",
       "    </tr>\n",
       "    <tr>\n",
       "      <th>36704</th>\n",
       "      <td>jack wolfskin alleycat 18l versatil action spo...</td>\n",
       "      <td>3</td>\n",
       "    </tr>\n",
       "    <tr>\n",
       "      <th>36705</th>\n",
       "      <td>jack wolfskin kado 14l lightweight topload bac...</td>\n",
       "      <td>3</td>\n",
       "    </tr>\n",
       "  </tbody>\n",
       "</table>\n",
       "<p>36706 rows × 2 columns</p>\n",
       "</div>"
      ],
      "text/plain": [
       "                                             description  categories\n",
       "0      collagen peptid powder 16oz grassf certifi pal...           0\n",
       "1      playtex diaper geni refil bag ideal diaper gen...           0\n",
       "2      cottonel ultra gentlecar toilet paper 48 doubl...           0\n",
       "3      scott comfortplu toilet paper 12 doubl roll ba...           0\n",
       "4      tide pod 3 1 turbo laundri deterg pac spring m...           0\n",
       "...                                                  ...         ...\n",
       "36701  jack wolfskin moab jam 18l versatil bike backp...           3\n",
       "36702  jack wolfskin kado 20l lightweight topload bac...           3\n",
       "36703  jack wolfskin 365 getaway 26l lightweight back...           3\n",
       "36704  jack wolfskin alleycat 18l versatil action spo...           3\n",
       "36705  jack wolfskin kado 14l lightweight topload bac...           3\n",
       "\n",
       "[36706 rows x 2 columns]"
      ]
     },
     "execution_count": 223,
     "metadata": {},
     "output_type": "execute_result"
    }
   ],
   "source": [
    "#Splitting dataset\n",
    "\n",
    "le=ppro.LabelEncoder()\n",
    "le.fit(df['categories'])\n",
    "\n",
    "#displaying the classes\n",
    "le.classes_\n",
    "df['categories']=le.transform(df['categories'])\n",
    "\n",
    "\n",
    "\n",
    "df"
   ]
  },
  {
   "cell_type": "code",
   "execution_count": 236,
   "metadata": {},
   "outputs": [],
   "source": [
    "#Inverting transformation\n",
    "df['categories']=le.inverse_transform(df['categories'])\n",
    "#df"
   ]
  },
  {
   "cell_type": "code",
   "execution_count": 237,
   "metadata": {},
   "outputs": [],
   "source": [
    "X_train, X_test, y_train, y_test = train_test_split( df['description'], df['categories'], test_size=0.33, random_state=42)"
   ]
  },
  {
   "cell_type": "code",
   "execution_count": 238,
   "metadata": {},
   "outputs": [
    {
     "data": {
      "text/plain": [
       "28304    backpack barbi larg backpack water bottl pink ...\n",
       "34820    leisur travel laptop backpack extra larg schoo...\n",
       "35987    fab starpoint littl girl hello kitti backpack ...\n",
       "30478    leaper cute colleg bookbag waterresist backpac...\n",
       "21582            men chest bag genuin travel sling bag 019\n",
       "                               ...                        \n",
       "16850    titan tt90324 high speed steel hand plug tap u...\n",
       "6265     tangkula towel warmer home bathroom 100w elect...\n",
       "11284    drillpro diamond hole saw 15 pc tile hole saw ...\n",
       "860               oxo good grip deep clean brush set orang\n",
       "15795    timberlin 670160 forstner bit set hex shank 16...\n",
       "Name: description, Length: 24593, dtype: object"
      ]
     },
     "execution_count": 238,
     "metadata": {},
     "output_type": "execute_result"
    }
   ],
   "source": [
    "X_train"
   ]
  },
  {
   "cell_type": "code",
   "execution_count": 239,
   "metadata": {},
   "outputs": [
    {
     "name": "stdout",
     "output_type": "stream",
     "text": [
      "<class 'pandas.core.frame.DataFrame'>\n",
      "RangeIndex: 36706 entries, 0 to 36705\n",
      "Data columns (total 2 columns):\n",
      " #   Column       Non-Null Count  Dtype \n",
      "---  ------       --------------  ----- \n",
      " 0   description  36706 non-null  object\n",
      " 1   categories   36706 non-null  object\n",
      "dtypes: object(2)\n",
      "memory usage: 573.7+ KB\n"
     ]
    }
   ],
   "source": [
    "df.info()"
   ]
  },
  {
   "cell_type": "markdown",
   "metadata": {},
   "source": [
    "## Classification"
   ]
  },
  {
   "cell_type": "markdown",
   "metadata": {},
   "source": [
    "### 1. Support Vector Machine"
   ]
  },
  {
   "cell_type": "code",
   "execution_count": 240,
   "metadata": {},
   "outputs": [],
   "source": [
    "from sklearn.feature_extraction.text import CountVectorizer\n",
    "from sklearn.naive_bayes import MultinomialNB\n",
    "from sklearn.metrics import accuracy_score\n",
    "\n",
    "# model exportation\n",
    "\n",
    "import joblib as jbl\n"
   ]
  },
  {
   "cell_type": "code",
   "execution_count": 241,
   "metadata": {},
   "outputs": [],
   "source": [
    "vect = CountVectorizer(min_df=10)\n",
    "\n",
    "X_train_bow = vect.fit_transform(X_train)\n",
    "X_test_bow = vect.transform(X_test)\n",
    "\n"
   ]
  },
  {
   "cell_type": "code",
   "execution_count": 242,
   "metadata": {},
   "outputs": [
    {
     "data": {
      "text/html": [
       "<style>#sk-container-id-10 {color: black;}#sk-container-id-10 pre{padding: 0;}#sk-container-id-10 div.sk-toggleable {background-color: white;}#sk-container-id-10 label.sk-toggleable__label {cursor: pointer;display: block;width: 100%;margin-bottom: 0;padding: 0.3em;box-sizing: border-box;text-align: center;}#sk-container-id-10 label.sk-toggleable__label-arrow:before {content: \"▸\";float: left;margin-right: 0.25em;color: #696969;}#sk-container-id-10 label.sk-toggleable__label-arrow:hover:before {color: black;}#sk-container-id-10 div.sk-estimator:hover label.sk-toggleable__label-arrow:before {color: black;}#sk-container-id-10 div.sk-toggleable__content {max-height: 0;max-width: 0;overflow: hidden;text-align: left;background-color: #f0f8ff;}#sk-container-id-10 div.sk-toggleable__content pre {margin: 0.2em;color: black;border-radius: 0.25em;background-color: #f0f8ff;}#sk-container-id-10 input.sk-toggleable__control:checked~div.sk-toggleable__content {max-height: 200px;max-width: 100%;overflow: auto;}#sk-container-id-10 input.sk-toggleable__control:checked~label.sk-toggleable__label-arrow:before {content: \"▾\";}#sk-container-id-10 div.sk-estimator input.sk-toggleable__control:checked~label.sk-toggleable__label {background-color: #d4ebff;}#sk-container-id-10 div.sk-label input.sk-toggleable__control:checked~label.sk-toggleable__label {background-color: #d4ebff;}#sk-container-id-10 input.sk-hidden--visually {border: 0;clip: rect(1px 1px 1px 1px);clip: rect(1px, 1px, 1px, 1px);height: 1px;margin: -1px;overflow: hidden;padding: 0;position: absolute;width: 1px;}#sk-container-id-10 div.sk-estimator {font-family: monospace;background-color: #f0f8ff;border: 1px dotted black;border-radius: 0.25em;box-sizing: border-box;margin-bottom: 0.5em;}#sk-container-id-10 div.sk-estimator:hover {background-color: #d4ebff;}#sk-container-id-10 div.sk-parallel-item::after {content: \"\";width: 100%;border-bottom: 1px solid gray;flex-grow: 1;}#sk-container-id-10 div.sk-label:hover label.sk-toggleable__label {background-color: #d4ebff;}#sk-container-id-10 div.sk-serial::before {content: \"\";position: absolute;border-left: 1px solid gray;box-sizing: border-box;top: 0;bottom: 0;left: 50%;z-index: 0;}#sk-container-id-10 div.sk-serial {display: flex;flex-direction: column;align-items: center;background-color: white;padding-right: 0.2em;padding-left: 0.2em;position: relative;}#sk-container-id-10 div.sk-item {position: relative;z-index: 1;}#sk-container-id-10 div.sk-parallel {display: flex;align-items: stretch;justify-content: center;background-color: white;position: relative;}#sk-container-id-10 div.sk-item::before, #sk-container-id-10 div.sk-parallel-item::before {content: \"\";position: absolute;border-left: 1px solid gray;box-sizing: border-box;top: 0;bottom: 0;left: 50%;z-index: -1;}#sk-container-id-10 div.sk-parallel-item {display: flex;flex-direction: column;z-index: 1;position: relative;background-color: white;}#sk-container-id-10 div.sk-parallel-item:first-child::after {align-self: flex-end;width: 50%;}#sk-container-id-10 div.sk-parallel-item:last-child::after {align-self: flex-start;width: 50%;}#sk-container-id-10 div.sk-parallel-item:only-child::after {width: 0;}#sk-container-id-10 div.sk-dashed-wrapped {border: 1px dashed gray;margin: 0 0.4em 0.5em 0.4em;box-sizing: border-box;padding-bottom: 0.4em;background-color: white;}#sk-container-id-10 div.sk-label label {font-family: monospace;font-weight: bold;display: inline-block;line-height: 1.2em;}#sk-container-id-10 div.sk-label-container {text-align: center;}#sk-container-id-10 div.sk-container {/* jupyter's `normalize.less` sets `[hidden] { display: none; }` but bootstrap.min.css set `[hidden] { display: none !important; }` so we also need the `!important` here to be able to override the default hidden behavior on the sphinx rendered scikit-learn.org. See: https://github.com/scikit-learn/scikit-learn/issues/21755 */display: inline-block !important;position: relative;}#sk-container-id-10 div.sk-text-repr-fallback {display: none;}</style><div id=\"sk-container-id-10\" class=\"sk-top-container\"><div class=\"sk-text-repr-fallback\"><pre>MultinomialNB()</pre><b>In a Jupyter environment, please rerun this cell to show the HTML representation or trust the notebook. <br />On GitHub, the HTML representation is unable to render, please try loading this page with nbviewer.org.</b></div><div class=\"sk-container\" hidden><div class=\"sk-item\"><div class=\"sk-estimator sk-toggleable\"><input class=\"sk-toggleable__control sk-hidden--visually\" id=\"sk-estimator-id-10\" type=\"checkbox\" checked><label for=\"sk-estimator-id-10\" class=\"sk-toggleable__label sk-toggleable__label-arrow\">MultinomialNB</label><div class=\"sk-toggleable__content\"><pre>MultinomialNB()</pre></div></div></div></div></div>"
      ],
      "text/plain": [
       "MultinomialNB()"
      ]
     },
     "execution_count": 242,
     "metadata": {},
     "output_type": "execute_result"
    }
   ],
   "source": [
    "naive_classifier = MultinomialNB()\n",
    "naive_classifier.fit(X_train_bow, y_train)"
   ]
  },
  {
   "cell_type": "code",
   "execution_count": 243,
   "metadata": {},
   "outputs": [
    {
     "name": "stdout",
     "output_type": "stream",
     "text": [
      "Taux de prediction: 0.984644596714274\n"
     ]
    }
   ],
   "source": [
    "NaiveB_pred=SVM_classifier.predict(X_test_bow)\n",
    "print('Taux de prediction:',accuracy_score(y_test, NaiveB_pred))"
   ]
  },
  {
   "cell_type": "code",
   "execution_count": 244,
   "metadata": {},
   "outputs": [],
   "source": [
    "pickle.dump(SVM_classifier,open('classifyer_SVM.pkl','wb'))"
   ]
  },
  {
   "cell_type": "code",
   "execution_count": 245,
   "metadata": {},
   "outputs": [
    {
     "data": {
      "text/plain": [
       "['classifyer_SVM.joblib']"
      ]
     },
     "execution_count": 245,
     "metadata": {},
     "output_type": "execute_result"
    }
   ],
   "source": [
    "jbl.dump(SVM_classifier,'classifyer_SVM.joblib')"
   ]
  },
  {
   "cell_type": "code",
   "execution_count": 269,
   "metadata": {},
   "outputs": [
    {
     "data": {
      "text/plain": [
       "array(['luggage'], dtype=object)"
      ]
     },
     "execution_count": 269,
     "metadata": {},
     "output_type": "execute_result"
    }
   ],
   "source": [
    "txt=SVM_classifier.predict(vect.transform([\"EASTPAK Taschen/Rucksäcke/Koffer The One Shoulder Bagge\",]))\n",
    "txt"
   ]
  },
  {
   "cell_type": "code",
   "execution_count": 270,
   "metadata": {},
   "outputs": [
    {
     "data": {
      "text/plain": [
       "array(['luggage'], dtype=object)"
      ]
     },
     "execution_count": 270,
     "metadata": {},
     "output_type": "execute_result"
    }
   ],
   "source": []
  },
  {
   "cell_type": "code",
   "execution_count": 254,
   "metadata": {},
   "outputs": [
    {
     "data": {
      "text/plain": [
       "array(['health-household', 'home-kitchen', 'industrial-scientific',\n",
       "       'luggage'], dtype=object)"
      ]
     },
     "execution_count": 254,
     "metadata": {},
     "output_type": "execute_result"
    }
   ],
   "source": [
    "df['categories'].filter()"
   ]
  },
  {
   "cell_type": "code",
   "execution_count": 275,
   "metadata": {},
   "outputs": [
    {
     "data": {
      "text/plain": [
       "categories\n",
       "luggage                  19148\n",
       "home-kitchen              6384\n",
       "industrial-scientific     6384\n",
       "health-household          4790\n",
       "Name: count, dtype: int64"
      ]
     },
     "execution_count": 275,
     "metadata": {},
     "output_type": "execute_result"
    }
   ],
   "source": [
    "df['categories'].value_counts()"
   ]
  },
  {
   "cell_type": "code",
   "execution_count": null,
   "metadata": {},
   "outputs": [],
   "source": [
    "# Deep learning classification\n",
    "\n"
   ]
  },
  {
   "cell_type": "markdown",
   "metadata": {},
   "source": [
    "## Preparing model production"
   ]
  },
  {
   "cell_type": "markdown",
   "metadata": {},
   "source": []
  },
  {
   "cell_type": "code",
   "execution_count": 234,
   "metadata": {},
   "outputs": [],
   "source": [
    "#defining function for preprocessing"
   ]
  }
 ],
 "metadata": {
  "kernelspec": {
   "display_name": "Python 3.10.0 64-bit",
   "language": "python",
   "name": "python3"
  },
  "language_info": {
   "codemirror_mode": {
    "name": "ipython",
    "version": 3
   },
   "file_extension": ".py",
   "mimetype": "text/x-python",
   "name": "python",
   "nbconvert_exporter": "python",
   "pygments_lexer": "ipython3",
   "version": "3.10.0"
  },
  "orig_nbformat": 4,
  "vscode": {
   "interpreter": {
    "hash": "3196968d684371006099b3d55edeef8ed90365227a30deaef86e5d4aa8519be0"
   }
  }
 },
 "nbformat": 4,
 "nbformat_minor": 2
}
